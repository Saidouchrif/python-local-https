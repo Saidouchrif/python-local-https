{
 "cells": [
  {
   "cell_type": "markdown",
   "id": "66034ae9",
   "metadata": {},
   "source": [
    "Import des bibliothèques"
   ]
  },
  {
   "cell_type": "code",
   "execution_count": null,
   "id": "7dc78613",
   "metadata": {},
   "outputs": [],
   "source": [
    "import http.server\n",
    "import ssl\n",
    "import os"
   ]
  },
  {
   "cell_type": "markdown",
   "id": "cfa79c62",
   "metadata": {},
   "source": [
    "Définition de l’adresse et du port"
   ]
  },
  {
   "cell_type": "code",
   "execution_count": null,
   "id": "d1f7a7e9",
   "metadata": {},
   "outputs": [
    {
     "name": "stdout",
     "output_type": "stream",
     "text": [
      "Serveur configuré pour : ('localhost', 4443)\n"
     ]
    }
   ],
   "source": [
    "# Définir l'adresse et le port du serveur HTTPS\n",
    "server_address = ('localhost', 4443)\n",
    "print(f\"Serveur configuré pour : {server_address}\")\n"
   ]
  },
  {
   "cell_type": "markdown",
   "id": "4f9cf012",
   "metadata": {},
   "source": [
    "Créer le serveur HTTP"
   ]
  },
  {
   "cell_type": "code",
   "execution_count": null,
   "id": "9008c6f7",
   "metadata": {},
   "outputs": [
    {
     "name": "stdout",
     "output_type": "stream",
     "text": [
      "🔧 Serveur HTTP standard créé.\n"
     ]
    }
   ],
   "source": [
    "# Créer un serveur HTTP standard\n",
    "httpd = http.server.HTTPServer(server_address, http.server.SimpleHTTPRequestHandler)\n",
    "print(\"🔧 Serveur HTTP standard créé.\")\n"
   ]
  },
  {
   "cell_type": "markdown",
   "id": "3acf4154",
   "metadata": {},
   "source": [
    "Charger le certificat et la clé pour HTTPS"
   ]
  },
  {
   "cell_type": "code",
   "execution_count": null,
   "id": "b03190a6",
   "metadata": {},
   "outputs": [
    {
     "name": "stdout",
     "output_type": "stream",
     "text": [
      "🔒 Certificat chargé, le serveur HTTPS est prêt.\n"
     ]
    }
   ],
   "source": [
    "# --- Configuration ---\n",
    "PORT = 4443\n",
    "BASE_DIR = os.path.dirname(__file__)\n",
    "FRONT_DIR = os.path.join(BASE_DIR, \"../Front-end\")  # Dossier Front-end\n",
    "CERT_PATH = os.path.join(BASE_DIR, \"../certs-cryptography/certs/certificate.pem\")\n",
    "KEY_PATH = os.path.join(BASE_DIR, \"../certs-cryptography/certs/private_key.pem\")\n",
    "\n",
    "# --- Vérification des certificats ---\n",
    "if not (os.path.exists(CERT_PATH) and os.path.exists(KEY_PATH)):\n",
    "    raise FileNotFoundError(\"Certificat ou clé privée manquante dans 'certs-cryptography/certs/'\")\n",
    "\n",
    "# --- Vérifie que le dossier Front-end contient index.html ---\n",
    "if not os.path.exists(os.path.join(FRONT_DIR, \"index.html\")):\n",
    "    raise FileNotFoundError(\"Fichier index.html introuvable dans le dossier 'Front-end/'\")\n",
    "\n",
    "# --- Changer le répertoire courant ---\n",
    "os.chdir(FRONT_DIR)\n",
    "\n",
    "# --- Serveur HTTPS ---\n",
    "handler = http.server.SimpleHTTPRequestHandler\n",
    "httpd = http.server.HTTPServer(('localhost', PORT), handler)\n",
    "httpd.socket = ssl.wrap_socket(httpd.socket,\n",
    "                               keyfile=KEY_PATH,\n",
    "                               certfile=CERT_PATH,\n",
    "                               server_side=True)\n",
    "\n",
    "\n",
    "print(\"🔒 Certificat chargé, le serveur HTTPS est prêt.\")"
   ]
  },
  {
   "cell_type": "markdown",
   "id": "77eb8300",
   "metadata": {},
   "source": [
    "Lancer le serveur HTTPS"
   ]
  },
  {
   "cell_type": "code",
   "execution_count": null,
   "id": "5c1f4871",
   "metadata": {},
   "outputs": [
    {
     "name": "stdout",
     "output_type": "stream",
     "text": [
      "✅ Serveur HTTPS lancé sur https://localhost:4443 ...\n",
      "🏠 Accédez à votre site : https://localhost:4443\n",
      "📄 Le fichier index.html sera affiché automatiquement\n",
      "🛑 Appuyez sur Ctrl+C pour arrêter le serveur\n"
     ]
    },
    {
     "name": "stderr",
     "output_type": "stream",
     "text": [
      "127.0.0.1 - - [24/Oct/2025 17:54:53] \"GET / HTTP/1.1\" 200 -\n",
      "127.0.0.1 - - [24/Oct/2025 17:54:54] code 404, message File not found\n",
      "127.0.0.1 - - [24/Oct/2025 17:54:54] \"GET /favicon.ico HTTP/1.1\" 404 -\n",
      "127.0.0.1 - - [24/Oct/2025 17:54:59] \"GET /main.ipynb HTTP/1.1\" 200 -\n",
      "127.0.0.1 - - [24/Oct/2025 17:55:17] \"GET / HTTP/1.1\" 200 -\n",
      "127.0.0.1 - - [24/Oct/2025 17:56:56] \"GET / HTTP/1.1\" 200 -\n",
      "127.0.0.1 - - [24/Oct/2025 17:56:56] code 404, message File not found\n",
      "127.0.0.1 - - [24/Oct/2025 17:56:56] \"GET /favicon.ico HTTP/1.1\" 404 -\n",
      "127.0.0.1 - - [24/Oct/2025 17:59:03] \"GET / HTTP/1.1\" 200 -\n",
      "127.0.0.1 - - [24/Oct/2025 17:59:05] \"GET /main.ipynb HTTP/1.1\" 200 -\n",
      "127.0.0.1 - - [24/Oct/2025 17:59:17] \"GET /main.ipynb HTTP/1.1\" 200 -\n"
     ]
    }
   ],
   "source": [
    "print(\"✅ Serveur HTTPS lancé sur https://localhost:4443 ...\")\n",
    "print(\"🏠 Accédez à votre site : https://localhost:4443\")\n",
    "print(\"📄 Le fichier index.html sera affiché automatiquement\")\n",
    "print(\"🛑 Appuyez sur Ctrl+C pour arrêter le serveur\")\n",
    "httpd.serve_forever()"
   ]
  }
 ],
 "metadata": {
  "kernelspec": {
   "display_name": "Python 3",
   "language": "python",
   "name": "python3"
  },
  "language_info": {
   "codemirror_mode": {
    "name": "ipython",
    "version": 3
   },
   "file_extension": ".py",
   "mimetype": "text/x-python",
   "name": "python",
   "nbconvert_exporter": "python",
   "pygments_lexer": "ipython3",
   "version": "3.13.5"
  }
 },
 "nbformat": 4,
 "nbformat_minor": 5
}
