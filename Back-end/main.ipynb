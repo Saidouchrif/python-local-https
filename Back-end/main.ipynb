{
 "cells": [
  {
   "cell_type": "markdown",
   "id": "66034ae9",
   "metadata": {},
   "source": [
    "Import des bibliothèques"
   ]
  },
  {
   "cell_type": "code",
   "execution_count": 5,
   "id": "7dc78613",
   "metadata": {},
   "outputs": [],
   "source": [
    "import http.server\n",
    "import ssl\n",
    "import os"
   ]
  },
  {
   "cell_type": "markdown",
   "id": "cfa79c62",
   "metadata": {},
   "source": [
    "Définition de l’adresse et du port"
   ]
  },
  {
   "cell_type": "code",
   "execution_count": 6,
   "id": "d1f7a7e9",
   "metadata": {},
   "outputs": [
    {
     "name": "stdout",
     "output_type": "stream",
     "text": [
      "Serveur configuré pour : ('localhost', 4443)\n"
     ]
    }
   ],
   "source": [
    "# Définir l'adresse et le port du serveur HTTPS\n",
    "server_address = ('localhost', 4443)\n",
    "print(f\"Serveur configuré pour : {server_address}\")\n"
   ]
  },
  {
   "cell_type": "markdown",
   "id": "4f9cf012",
   "metadata": {},
   "source": [
    "Créer le serveur HTTP"
   ]
  },
  {
   "cell_type": "code",
   "execution_count": 7,
   "id": "9008c6f7",
   "metadata": {},
   "outputs": [
    {
     "name": "stdout",
     "output_type": "stream",
     "text": [
      "🔧 Serveur HTTP standard créé.\n"
     ]
    }
   ],
   "source": [
    "# Créer un serveur HTTP standard\n",
    "httpd = http.server.HTTPServer(server_address, http.server.SimpleHTTPRequestHandler)\n",
    "print(\"🔧 Serveur HTTP standard créé.\")\n"
   ]
  },
  {
   "cell_type": "markdown",
   "id": "3acf4154",
   "metadata": {},
   "source": [
    "Charger le certificat et la clé pour HTTPS"
   ]
  },
  {
   "cell_type": "code",
   "execution_count": 8,
   "id": "b03190a6",
   "metadata": {},
   "outputs": [
    {
     "name": "stdout",
     "output_type": "stream",
     "text": [
      "🔒 Certificat chargé, le serveur HTTPS est prêt.\n"
     ]
    }
   ],
   "source": [
    "# Vérifier que le dossier 'certs/' existe et contient private_key.pem et certificate.pem\n",
    "import os\n",
    "if not (os.path.exists(\"../certs-cryptography/certs/private_key.pem\") and \n",
    "        os.path.exists(\"../certs-cryptography/certs/certificate.pem\")):\n",
    "    raise FileNotFoundError(\"Certificat ou clé privée manquante dans le dossier '../certs-cryptography/certs/'\")\n",
    "\n",
    "PORT = 4443\n",
    "handler = http.server.SimpleHTTPRequestHandler\n",
    "httpd = http.server.HTTPServer(('localhost', PORT), handler)\n",
    "\n",
    "# Créer un contexte SSL moderne\n",
    "ssl_context = ssl.SSLContext(ssl.PROTOCOL_TLS_SERVER)\n",
    "ssl_context.load_cert_chain(\n",
    "    certfile=\"../certs-cryptography/certs/certificate.pem\",\n",
    "    keyfile=\"../certs-cryptography/certs/private_key.pem\"\n",
    ")\n",
    "\n",
    "# Convertir le socket HTTP en socket sécurisé SSL/TLS\n",
    "httpd.socket = ssl_context.wrap_socket(httpd.socket, server_side=True)\n",
    "\n",
    "print(\"🔒 Certificat chargé, le serveur HTTPS est prêt.\")"
   ]
  },
  {
   "cell_type": "markdown",
   "id": "77eb8300",
   "metadata": {},
   "source": [
    "Lancer le serveur HTTPS"
   ]
  },
  {
   "cell_type": "code",
   "execution_count": null,
   "id": "5c1f4871",
   "metadata": {},
   "outputs": [
    {
     "name": "stdout",
     "output_type": "stream",
     "text": [
      "✅ Serveur HTTPS lancé sur https://localhost:4443 ...\n"
     ]
    }
   ],
   "source": [
    "print(\"✅ Serveur HTTPS lancé sur https://localhost:4443 ...\")\n",
    "print(\"🏠 Accédez à votre site : https://localhost:4443\")\n",
    "print(\"📄 Le fichier index.html sera affiché automatiquement\")\n",
    "print(\"🛑 Appuyez sur Ctrl+C pour arrêter le serveur\")\n",
    "httpd.serve_forever()"
   ]
  }
 ],
 "metadata": {
  "kernelspec": {
   "display_name": "Python 3",
   "language": "python",
   "name": "python3"
  },
  "language_info": {
   "codemirror_mode": {
    "name": "ipython",
    "version": 3
   },
   "file_extension": ".py",
   "mimetype": "text/x-python",
   "name": "python",
   "nbconvert_exporter": "python",
   "pygments_lexer": "ipython3",
   "version": "3.13.5"
  }
 },
 "nbformat": 4,
 "nbformat_minor": 5
}
