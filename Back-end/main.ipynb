{
 "cells": [
  {
   "cell_type": "markdown",
   "id": "66034ae9",
   "metadata": {},
   "source": [
    "Import des bibliothèques"
   ]
  },
  {
   "cell_type": "code",
   "execution_count": 1,
   "id": "7dc78613",
   "metadata": {},
   "outputs": [],
   "source": [
    "import http.server\n",
    "import ssl\n",
    "import os"
   ]
  },
  {
   "cell_type": "markdown",
   "id": "cfa79c62",
   "metadata": {},
   "source": [
    "Définition de l’adresse et du port"
   ]
  },
  {
   "cell_type": "code",
   "execution_count": 2,
   "id": "d1f7a7e9",
   "metadata": {},
   "outputs": [
    {
     "name": "stdout",
     "output_type": "stream",
     "text": [
      "Serveur configuré pour : ('localhost', 4443)\n"
     ]
    }
   ],
   "source": [
    "# Définir l'adresse et le port du serveur HTTPS\n",
    "server_address = ('localhost', 4443)\n",
    "print(f\"Serveur configuré pour : {server_address}\")\n"
   ]
  },
  {
   "cell_type": "markdown",
   "id": "4f9cf012",
   "metadata": {},
   "source": [
    "Créer le serveur HTTP"
   ]
  },
  {
   "cell_type": "code",
   "execution_count": 3,
   "id": "9008c6f7",
   "metadata": {},
   "outputs": [
    {
     "name": "stdout",
     "output_type": "stream",
     "text": [
      "🔧 Serveur HTTP standard créé.\n"
     ]
    }
   ],
   "source": [
    "# Créer un serveur HTTP standard\n",
    "httpd = http.server.HTTPServer(server_address, http.server.SimpleHTTPRequestHandler)\n",
    "print(\"🔧 Serveur HTTP standard créé.\")\n"
   ]
  },
  {
   "cell_type": "markdown",
   "id": "3acf4154",
   "metadata": {},
   "source": [
    "Charger le certificat et la clé pour HTTPS"
   ]
  },
  {
   "cell_type": "code",
   "execution_count": 4,
   "id": "b03190a6",
   "metadata": {},
   "outputs": [
    {
     "ename": "FileNotFoundError",
     "evalue": "Certificat ou clé privée manquante dans le dossier 'certs/'",
     "output_type": "error",
     "traceback": [
      "\u001b[31m---------------------------------------------------------------------------\u001b[39m",
      "\u001b[31mFileNotFoundError\u001b[39m                         Traceback (most recent call last)",
      "\u001b[36mCell\u001b[39m\u001b[36m \u001b[39m\u001b[32mIn[4]\u001b[39m\u001b[32m, line 4\u001b[39m\n\u001b[32m      2\u001b[39m \u001b[38;5;28;01mimport\u001b[39;00m\u001b[38;5;250m \u001b[39m\u001b[34;01mos\u001b[39;00m\n\u001b[32m      3\u001b[39m \u001b[38;5;28;01mif\u001b[39;00m \u001b[38;5;129;01mnot\u001b[39;00m (os.path.exists(\u001b[33m\"\u001b[39m\u001b[33mcerts-cryptography/certs/private_key.pem\u001b[39m\u001b[33m\"\u001b[39m) \u001b[38;5;129;01mand\u001b[39;00m os.path.exists(\u001b[33m\"\u001b[39m\u001b[33mcerts-cryptography/certs/certificate.pem\u001b[39m\u001b[33m\"\u001b[39m)):\n\u001b[32m----> \u001b[39m\u001b[32m4\u001b[39m     \u001b[38;5;28;01mraise\u001b[39;00m \u001b[38;5;167;01mFileNotFoundError\u001b[39;00m(\u001b[33m\"\u001b[39m\u001b[33mCertificat ou clé privée manquante dans le dossier \u001b[39m\u001b[33m'\u001b[39m\u001b[33mcerts/\u001b[39m\u001b[33m'\u001b[39m\u001b[33m\"\u001b[39m)\n\u001b[32m      6\u001b[39m \u001b[38;5;66;03m# Convertir le socket HTTP en socket sécurisé SSL/TLS\u001b[39;00m\n\u001b[32m      7\u001b[39m httpd.socket = ssl.wrap_socket(\n\u001b[32m      8\u001b[39m     httpd.socket,\n\u001b[32m      9\u001b[39m     keyfile=\u001b[33m\"\u001b[39m\u001b[33mcerts-cryptography/certs/private_key.pem\u001b[39m\u001b[33m\"\u001b[39m,\n\u001b[32m     10\u001b[39m     certfile=\u001b[33m\"\u001b[39m\u001b[33mcerts-cryptography/certs/certificate.pem\u001b[39m\u001b[33m\"\u001b[39m,\n\u001b[32m     11\u001b[39m     server_side=\u001b[38;5;28;01mTrue\u001b[39;00m\n\u001b[32m     12\u001b[39m )\n",
      "\u001b[31mFileNotFoundError\u001b[39m: Certificat ou clé privée manquante dans le dossier 'certs/'"
     ]
    }
   ],
   "source": [
    "# Vérifier que le dossier 'certs/' existe et contient private_key.pem et certificate.pem\n",
    "import os\n",
    "if not (os.path.exists(\"certs-cryptography/certs/private_key.pem\") and os.path.exists(\"certs-cryptography/certs/certificate.pem\")):\n",
    "    raise FileNotFoundError(\"Certificat ou clé privée manquante dans le dossier 'certs/'\")\n",
    "\n",
    "# Convertir le socket HTTP en socket sécurisé SSL/TLS\n",
    "httpd.socket = ssl.wrap_socket(\n",
    "    httpd.socket,\n",
    "    keyfile=\"certs-cryptography/certs/private_key.pem\",\n",
    "    certfile=\"certs-cryptography/certs/certificate.pem\",\n",
    "    server_side=True\n",
    ")\n",
    "print(\"🔒 Certificat chargé, le serveur HTTPS est prêt.\")"
   ]
  },
  {
   "cell_type": "markdown",
   "id": "77eb8300",
   "metadata": {},
   "source": [
    "Lancer le serveur HTTPS"
   ]
  },
  {
   "cell_type": "code",
   "execution_count": null,
   "id": "5c1f4871",
   "metadata": {},
   "outputs": [],
   "source": [
    "print(\"✅ Serveur HTTPS lancé sur https://localhost:4443 ...\")\n",
    "httpd.serve_forever()\n"
   ]
  }
 ],
 "metadata": {
  "kernelspec": {
   "display_name": "Python 3",
   "language": "python",
   "name": "python3"
  },
  "language_info": {
   "codemirror_mode": {
    "name": "ipython",
    "version": 3
   },
   "file_extension": ".py",
   "mimetype": "text/x-python",
   "name": "python",
   "nbconvert_exporter": "python",
   "pygments_lexer": "ipython3",
   "version": "3.13.5"
  }
 },
 "nbformat": 4,
 "nbformat_minor": 5
}
