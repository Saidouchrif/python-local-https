{
 "cells": [
  {
   "cell_type": "markdown",
   "id": "f8beba6b",
   "metadata": {},
   "source": [
    "Génération d’un certificat X.509 auto-signé avec Python (cryptography)"
   ]
  },
  {
   "cell_type": "code",
   "execution_count": 13,
   "id": "faa6e95c",
   "metadata": {},
   "outputs": [],
   "source": [
    "#Importation des bibliothèques nécessaires\n",
    "from cryptography.hazmat.primitives.asymmetric import rsa\n",
    "from cryptography.hazmat.primitives import serialization, hashes\n",
    "from cryptography import x509\n",
    "from cryptography.x509.oid import NameOID\n",
    "import datetime\n",
    "import os\n"
   ]
  },
  {
   "cell_type": "markdown",
   "id": "14cc0cce",
   "metadata": {},
   "source": [
    "Génération de la clé privée RSA"
   ]
  },
  {
   "cell_type": "code",
   "execution_count": 14,
   "id": "1d449c3a",
   "metadata": {},
   "outputs": [
    {
     "name": "stdout",
     "output_type": "stream",
     "text": [
      "✅ Clé RSA générée avec succès.\n"
     ]
    }
   ],
   "source": [
    "# Générer une clé RSA de 2048 bits\n",
    "private_key = rsa.generate_private_key(\n",
    "    public_exponent=65537,\n",
    "    key_size=2048\n",
    ")\n",
    "\n",
    "# Extraire la clé publique associée\n",
    "public_key = private_key.public_key()\n",
    "\n",
    "print(\"✅ Clé RSA générée avec succès.\")\n"
   ]
  },
  {
   "cell_type": "markdown",
   "id": "d248f4d5",
   "metadata": {},
   "source": [
    "Créer dossier certs"
   ]
  },
  {
   "cell_type": "code",
   "execution_count": 15,
   "id": "0b76968d",
   "metadata": {},
   "outputs": [
    {
     "name": "stdout",
     "output_type": "stream",
     "text": [
      "📁 Dossier 'certs' prêt.\n"
     ]
    }
   ],
   "source": [
    "import os\n",
    "os.makedirs(\"certs\", exist_ok=True)\n",
    "print(\"📁 Dossier 'certs' prêt.\")"
   ]
  },
  {
   "cell_type": "markdown",
   "id": "e0b29090",
   "metadata": {},
   "source": [
    "Sauvegarde de la clé privée dans un fichier PEM"
   ]
  },
  {
   "cell_type": "code",
   "execution_count": 16,
   "id": "6494ce6f",
   "metadata": {},
   "outputs": [
    {
     "name": "stdout",
     "output_type": "stream",
     "text": [
      "🔒 Fichier 'private_key.pem' créé.\n"
     ]
    }
   ],
   "source": [
    "# Sauvegarder la clé privée dans le dossier \"certs\"\n",
    "with open(\"certs/private_key.pem\", \"wb\") as f:\n",
    "    f.write(private_key.private_bytes(\n",
    "        encoding=serialization.Encoding.PEM,\n",
    "        format=serialization.PrivateFormat.TraditionalOpenSSL,\n",
    "        encryption_algorithm=serialization.NoEncryption()\n",
    "    ))\n",
    "\n",
    "print(\"🔒 Fichier 'private_key.pem' créé.\")\n"
   ]
  },
  {
   "cell_type": "markdown",
   "id": "71b7e613",
   "metadata": {},
   "source": [
    "Création des informations du certificat (subject et issuer)"
   ]
  },
  {
   "cell_type": "code",
   "execution_count": 17,
   "id": "7f33ab63",
   "metadata": {},
   "outputs": [
    {
     "name": "stdout",
     "output_type": "stream",
     "text": [
      "Informations du certificat définies (subject/issuer).\n"
     ]
    }
   ],
   "source": [
    "# Définir les informations du certificat X.509\n",
    "subject = issuer = x509.Name([\n",
    "    x509.NameAttribute(NameOID.COUNTRY_NAME, \"MA\"),\n",
    "    x509.NameAttribute(NameOID.ORGANIZATION_NAME, \"MonProjet\"),\n",
    "    x509.NameAttribute(NameOID.COMMON_NAME, \"localhost\"),\n",
    "])\n",
    "\n",
    "print(\"Informations du certificat définies (subject/issuer).\")\n"
   ]
  },
  {
   "cell_type": "markdown",
   "id": "a011eef7",
   "metadata": {},
   "source": [
    "Construction et signature du certificat"
   ]
  },
  {
   "cell_type": "code",
   "execution_count": 18,
   "id": "773c32cd",
   "metadata": {},
   "outputs": [
    {
     "name": "stdout",
     "output_type": "stream",
     "text": [
      "Certificat X.509 construit et signé avec SHA256.\n"
     ]
    },
    {
     "name": "stderr",
     "output_type": "stream",
     "text": [
      "C:\\Users\\saido\\AppData\\Local\\Temp\\ipykernel_18944\\301973752.py:8: DeprecationWarning: datetime.datetime.utcnow() is deprecated and scheduled for removal in a future version. Use timezone-aware objects to represent datetimes in UTC: datetime.datetime.now(datetime.UTC).\n",
      "  .not_valid_before(datetime.datetime.utcnow())\n",
      "C:\\Users\\saido\\AppData\\Local\\Temp\\ipykernel_18944\\301973752.py:9: DeprecationWarning: datetime.datetime.utcnow() is deprecated and scheduled for removal in a future version. Use timezone-aware objects to represent datetimes in UTC: datetime.datetime.now(datetime.UTC).\n",
      "  .not_valid_after(datetime.datetime.utcnow() + datetime.timedelta(days=365))\n"
     ]
    }
   ],
   "source": [
    "# Construire le certificat X.509 auto-signé\n",
    "cert = (\n",
    "    x509.CertificateBuilder()\n",
    "    .subject_name(subject)\n",
    "    .issuer_name(issuer)\n",
    "    .public_key(public_key)\n",
    "    .serial_number(x509.random_serial_number())\n",
    "    .not_valid_before(datetime.datetime.utcnow())\n",
    "    .not_valid_after(datetime.datetime.utcnow() + datetime.timedelta(days=365))\n",
    "    .add_extension(\n",
    "        x509.SubjectAlternativeName([x509.DNSName(\"localhost\")]),\n",
    "        critical=False\n",
    "    )\n",
    "    .sign(private_key, hashes.SHA256())\n",
    ")\n",
    "\n",
    "print(\"Certificat X.509 construit et signé avec SHA256.\")"
   ]
  },
  {
   "cell_type": "markdown",
   "id": "5bc4f90f",
   "metadata": {},
   "source": [
    "Sauvegarde du certificat dans un fichier PEM"
   ]
  },
  {
   "cell_type": "code",
   "execution_count": 19,
   "id": "e7bfec8d",
   "metadata": {},
   "outputs": [
    {
     "name": "stdout",
     "output_type": "stream",
     "text": [
      "📜 Fichier 'certificate.pem' généré dans ./certs/\n"
     ]
    }
   ],
   "source": [
    "# Sauvegarder le certificat dans un fichier PEM\n",
    "with open(\"certs/certificate.pem\", \"wb\") as f:\n",
    "    f.write(cert.public_bytes(serialization.Encoding.PEM))\n",
    "\n",
    "print(\"📜 Fichier 'certificate.pem' généré dans ./certs/\")"
   ]
  },
  {
   "cell_type": "markdown",
   "id": "3b85f8bb",
   "metadata": {},
   "source": [
    "Vérification finale"
   ]
  },
  {
   "cell_type": "code",
   "execution_count": 20,
   "id": "1a09fe60",
   "metadata": {},
   "outputs": [
    {
     "name": "stdout",
     "output_type": "stream",
     "text": [
      "✅ Certificat et clé privée générés avec succès dans le dossier 'certs'.\n"
     ]
    }
   ],
   "source": [
    "print(\"✅ Certificat et clé privée générés avec succès dans le dossier 'certs'.\")\n"
   ]
  }
 ],
 "metadata": {
  "kernelspec": {
   "display_name": "Python 3",
   "language": "python",
   "name": "python3"
  },
  "language_info": {
   "codemirror_mode": {
    "name": "ipython",
    "version": 3
   },
   "file_extension": ".py",
   "mimetype": "text/x-python",
   "name": "python",
   "nbconvert_exporter": "python",
   "pygments_lexer": "ipython3",
   "version": "3.13.5"
  }
 },
 "nbformat": 4,
 "nbformat_minor": 5
}
